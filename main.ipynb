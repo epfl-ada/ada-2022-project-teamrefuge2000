{
 "cells": [
  {
   "cell_type": "markdown",
   "metadata": {},
   "source": [
    "### Points to prove for milestone 2 \n",
    "1. That you can handle the data in its size.\n",
    "2. That you understand what’s in the data (formats, distributions, missing values, correlations, etc.).\n",
    "3. That you considered ways to enrich, filter, transform the data according to your needs.\n",
    "4. That you have a reasonable plan and ideas for methods you’re going to use, giving their essential mathematical details in the notebook.\n",
    "5. That your plan for analysis and communication is reasonable and sound, potentially discussing alternatives to your choices that you considered but dropped."
   ]
  },
  {
   "cell_type": "markdown",
   "metadata": {},
   "source": [
    "### First some pre processing to get good dataframes to work with"
   ]
  },
  {
   "cell_type": "code",
   "execution_count": 163,
   "metadata": {},
   "outputs": [],
   "source": [
    "import pandas as pd\n",
    "\n",
    "DATA_FOLDER = \"data/\"\n",
    "\n",
    "CHARACTER_DATASET = DATA_FOLDER + \"character.metadata.tsv\"\n",
    "MOVIE_DATASET = DATA_FOLDER + \"movie.metadata.tsv\"\n",
    "NAME_CLUSTER_DATASET = DATA_FOLDER + \"name.clusters.txt\"\n",
    "PLOT_DATASET = DATA_FOLDER + \"plot_summaries.txt\"\n",
    "TVTROPES_DATASET = DATA_FOLDER + \"tvtropes.clusters.txt\""
   ]
  },
  {
   "cell_type": "code",
   "execution_count": 164,
   "metadata": {},
   "outputs": [],
   "source": [
    "movie_metadata = pd.read_csv(MOVIE_DATASET, sep='\\t', header=None) \\\n",
    "    .rename(columns={0:'wikipedia_movie_id', 1 : 'freebase_movie_id', 2 : 'movie_name', 3 : 'movie_release_date', 4 : 'office_revenue', 5 : 'runtime', 6 : 'languages', 7 : 'countries', 8 : 'genres'})\n",
    "movie_metadata['movie_release_date'] = pd.to_datetime(movie_metadata['movie_release_date'], errors = 'coerce')"
   ]
  },
  {
   "cell_type": "code",
   "execution_count": 165,
   "metadata": {},
   "outputs": [],
   "source": [
    "character_metadata = pd.read_csv(CHARACTER_DATASET, sep='\\t', header=None) \\\n",
    "    .rename(columns={0 : 'wikipedia_movie_id', 1 : 'freebase_movie_id', 2 : 'movie_release_date', 3 : 'character_name', 4 : 'actor_birth_date', 5 : 'actor_gender', 6 : 'actor_height', 7 : 'actor_ethnicity', 8 : 'actor_name', 9 : 'actor_age', 10 : 'freebase_map_id', 11 : 'freebase_character_id', 12 : 'freebase_actor_id'})\n",
    "character_metadata['movie_release_date'] = pd.to_datetime(character_metadata['movie_release_date'], errors = 'coerce')\n",
    "character_metadata['actor_birth_date'] = pd.to_datetime(character_metadata['actor_birth_date'],utc=True , errors='coerce')"
   ]
  },
  {
   "cell_type": "code",
   "execution_count": 166,
   "metadata": {},
   "outputs": [],
   "source": [
    "plot_summaries_dict = {}\n",
    "with open(PLOT_DATASET) as f :\n",
    "    for line in f :\n",
    "        words = line.split() \n",
    "        plot_summaries_dict[words[0]] = \" \".join(words[1:])\n",
    "\n",
    "plot_summaries = pd.DataFrame.from_dict(plot_summaries_dict.items()).rename(columns={0:'movie_id',1 : 'plot'})"
   ]
  },
  {
   "cell_type": "code",
   "execution_count": 167,
   "metadata": {},
   "outputs": [],
   "source": [
    "name_clusters_dict = {}\n",
    "with open(NAME_CLUSTER_DATASET) as f :\n",
    "    for line in f :\n",
    "        words = line.split() \n",
    "        name_clusters_dict[\" \".join(words[0:2])] = words[2]\n",
    "\n",
    "name_clusters = pd.DataFrame.from_dict(name_clusters_dict.items()).rename(columns={0:'character_name',1 : 'freebase_map_id'})"
   ]
  },
  {
   "cell_type": "code",
   "execution_count": 168,
   "metadata": {},
   "outputs": [],
   "source": [
    "import ast\n",
    "tvtropes_list = []\n",
    "with open(TVTROPES_DATASET) as f :\n",
    "    for line in f :\n",
    "        words = line.split() \n",
    "        tvtropes_list.append([words[0]] + list(ast.literal_eval(\" \".join(words[1:])).values()))\n",
    "\n",
    "tvtropes_cluster = pd.DataFrame(tvtropes_list).rename(columns={0: 'character_type', 1 : 'character_name', 2 : 'movie_name', 3 : 'movie_id', 4 : 'actor_name'})"
   ]
  },
  {
   "cell_type": "code",
   "execution_count": 169,
   "metadata": {},
   "outputs": [],
   "source": [
    "PROCESSED_DATA_FOLDER = 'processed_data/'\n",
    "\n",
    "PROCESSED_CHARACTER = PROCESSED_DATA_FOLDER + 'character_metadata.csv'\n",
    "PROCESSED_MOVIE = PROCESSED_DATA_FOLDER + 'movie_metadata.csv'\n",
    "PROCESSED_NAME = PROCESSED_DATA_FOLDER + 'name_clusters.csv'\n",
    "PROCESSED_PLOT = PROCESSED_DATA_FOLDER + 'plot_summaries.csv'\n",
    "PROCESSED_TVTROPES = PROCESSED_DATA_FOLDER + 'tvtropes_clusters.csv'"
   ]
  },
  {
   "cell_type": "code",
   "execution_count": 170,
   "metadata": {},
   "outputs": [],
   "source": [
    "character_metadata.to_csv(PROCESSED_CHARACTER)\n",
    "movie_metadata.to_csv(PROCESSED_MOVIE)\n",
    "plot_summaries.to_csv(PROCESSED_PLOT)\n",
    "name_clusters.to_csv(PROCESSED_NAME)\n",
    "tvtropes_cluster.to_csv(PROCESSED_TVTROPES)"
   ]
  },
  {
   "cell_type": "code",
   "execution_count": null,
   "metadata": {},
   "outputs": [],
   "source": []
  }
 ],
 "metadata": {
  "kernelspec": {
   "display_name": "Python 3.10.6 64-bit",
   "language": "python",
   "name": "python3"
  },
  "language_info": {
   "codemirror_mode": {
    "name": "ipython",
    "version": 3
   },
   "file_extension": ".py",
   "mimetype": "text/x-python",
   "name": "python",
   "nbconvert_exporter": "python",
   "pygments_lexer": "ipython3",
   "version": "3.10.6"
  },
  "orig_nbformat": 4,
  "vscode": {
   "interpreter": {
    "hash": "916dbcbb3f70747c44a77c7bcd40155683ae19c65e1c03b4aa3499c5328201f1"
   }
  }
 },
 "nbformat": 4,
 "nbformat_minor": 2
}
