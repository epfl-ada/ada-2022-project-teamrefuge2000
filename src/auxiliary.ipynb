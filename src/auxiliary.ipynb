{
 "cells": [
  {
   "cell_type": "markdown",
   "metadata": {},
   "source": [
    "Every movies plot have been analysed by the Stanford CoreNLP, we get search through it using the element tree from xml. We just have to give the movie id. "
   ]
  },
  {
   "cell_type": "code",
   "execution_count": 41,
   "metadata": {},
   "outputs": [],
   "source": [
    "import xml.etree.ElementTree as ET\n",
    "\n",
    "DATA = '../corenlp_plot_summaries/'\n",
    "\n",
    "def parse_nlp(id : str) -> ET :\n",
    "    tree = ET.parse(DATA + id + '.xml')\n",
    "    return tree.getroot()"
   ]
  },
  {
   "cell_type": "markdown",
   "metadata": {},
   "source": [
    "We want to be able to translate the freebase id to their meaning to make onsightful analysis on our data."
   ]
  },
  {
   "cell_type": "code",
   "execution_count": 42,
   "metadata": {},
   "outputs": [],
   "source": [
    "import requests\n",
    "import urllib\n",
    "\n",
    "def translate_freebase(freebase_id : str) -> str:\n",
    "    query_content = \"\"\"\n",
    "    PREFIX wd: <http://www.wikidata.org/entity/>\n",
    "    PREFIX wdt: <http://www.wikidata.org/prop/direct/>\n",
    "    PREFIX wikibase: <http://wikiba.se/ontology#>\n",
    "    SELECT  ?sLabel WHERE {\n",
    "        ?s wdt:P646 \"%s\"\n",
    "        SERVICE wikibase:label {\n",
    "            bd:serviceParam wikibase:language \"en\" .\n",
    "        }\n",
    "    }\n",
    "    \"\"\" % freebase_id\n",
    "    \n",
    "    query = \"https://query.wikidata.org/bigdata/namespace/wdq/sparql?format=json&query=\" + urllib.parse.quote_plus(query_content)\n",
    "    response = requests.get(query)\n",
    "    return response.json()['results']['bindings'][0]['sLabel']['value']\n"
   ]
  },
  {
   "cell_type": "code",
   "execution_count": null,
   "metadata": {},
   "outputs": [],
   "source": []
  }
 ],
 "metadata": {
  "kernelspec": {
   "display_name": "Python 3.10.6 64-bit",
   "language": "python",
   "name": "python3"
  },
  "language_info": {
   "codemirror_mode": {
    "name": "ipython",
    "version": 3
   },
   "file_extension": ".py",
   "mimetype": "text/x-python",
   "name": "python",
   "nbconvert_exporter": "python",
   "pygments_lexer": "ipython3",
   "version": "3.10.6"
  },
  "orig_nbformat": 4,
  "vscode": {
   "interpreter": {
    "hash": "916dbcbb3f70747c44a77c7bcd40155683ae19c65e1c03b4aa3499c5328201f1"
   }
  }
 },
 "nbformat": 4,
 "nbformat_minor": 2
}
