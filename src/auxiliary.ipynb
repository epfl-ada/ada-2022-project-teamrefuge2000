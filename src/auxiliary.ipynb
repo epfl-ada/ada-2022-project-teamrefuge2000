{
 "cells": [
  {
   "cell_type": "markdown",
   "metadata": {},
   "source": [
    "Every movies plot have been analysed by the Stanford CoreNLP, we get search through it using the element tree from xml. We just have to give the movie id. "
   ]
  },
  {
   "cell_type": "code",
   "execution_count": 41,
   "metadata": {},
   "outputs": [],
   "source": [
    "import xml.etree.ElementTree as ET\n",
    "\n",
    "DATA = '../corenlp_plot_summaries/'\n",
    "\n",
    "def parse_nlp(id : str) -> ET :\n",
    "    tree = ET.parse(DATA + id + '.xml')\n",
    "    return tree.getroot()"
   ]
  },
  {
   "cell_type": "markdown",
   "metadata": {},
   "source": [
    "We translate the freebase ids using sql queries."
   ]
  },
  {
   "cell_type": "code",
   "execution_count": 2,
   "metadata": {},
   "outputs": [],
   "source": [
    "import requests\n",
    "import urllib\n",
    "import numpy as np\n",
    "\n",
    "def translate_freebase_list(freebase_ids) -> dict:\n",
    "    st = \"\\\" \\\"\".join(freebase_ids)\n",
    "    st = \"\\\"\" + st + \"\\\"\"\n",
    "\n",
    "    query_content = \"\"\"\n",
    "    PREFIX wd: <http://www.wikidata.org/entity/>\n",
    "    PREFIX wdt: <http://www.wikidata.org/prop/direct/>\n",
    "    PREFIX wikibase: <http://wikiba.se/ontology#>\n",
    "\n",
    "    SELECT DISTINCT ?ISNI ?idLabel WHERE {\n",
    "    VALUES ?ISNI {%s}\n",
    "    ?id wdt:P646 ?ISNI\n",
    "    SERVICE wikibase:label {\n",
    "        bd:serviceParam wikibase:language \"en\" .\n",
    "    }\n",
    "    }\n",
    "    \"\"\" % st\n",
    "    \n",
    "    query = \"https://query.wikidata.org/bigdata/namespace/wdq/sparql?format=json&query=\" + urllib.parse.quote_plus(query_content)\n",
    "    response = requests.get(query)\n",
    "    if not response.ok :\n",
    "        print(\"Error in request\")\n",
    "        return np.NaN\n",
    "    \n",
    "    values = response.json()\n",
    "    if len(values) == 0 :\n",
    "        return np.NaN\n",
    "        \n",
    "    return dict([(item['ISNI']['value'], item['idLabel']['value']) for item in values['results']['bindings']])\n",
    "\n",
    "def split(a, n):\n",
    "    k, m = divmod(len(a), n)\n",
    "    return (a[i*k+min(i, m):(i+1)*k+min(i+1, m)] for i in range(n))\n",
    "\n",
    "def translate_freebase_df(df, col_name) :\n",
    "    li = list(set(df[col_name].dropna().tolist()))\n",
    "    di = dict()\n",
    "    for l in split(li, 10) :\n",
    "        di.update(translate_freebase_list(l))\n",
    "    \n",
    "    df[col_name + '_translated'] = df[col_name].apply(lambda x : di[x] if x in di else np.NaN)\n",
    "    return df\n"
   ]
  },
  {
   "cell_type": "code",
   "execution_count": null,
   "metadata": {},
   "outputs": [],
   "source": []
  }
 ],
 "metadata": {
  "kernelspec": {
   "display_name": "Python 3.10.6 64-bit",
   "language": "python",
   "name": "python3"
  },
  "language_info": {
   "codemirror_mode": {
    "name": "ipython",
    "version": 3
   },
   "file_extension": ".py",
   "mimetype": "text/x-python",
   "name": "python",
   "nbconvert_exporter": "python",
   "pygments_lexer": "ipython3",
   "version": "3.10.6"
  },
  "orig_nbformat": 4,
  "vscode": {
   "interpreter": {
    "hash": "916dbcbb3f70747c44a77c7bcd40155683ae19c65e1c03b4aa3499c5328201f1"
   }
  }
 },
 "nbformat": 4,
 "nbformat_minor": 2
}
