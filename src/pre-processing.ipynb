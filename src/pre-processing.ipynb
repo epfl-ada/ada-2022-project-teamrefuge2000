{
 "cells": [
  {
   "cell_type": "markdown",
   "source": [
    "## Imports"
   ],
   "metadata": {
    "collapsed": false
   }
  },
  {
   "cell_type": "code",
   "execution_count": 1,
   "outputs": [],
   "source": [
    "import pandas as pd\n",
    "import ast"
   ],
   "metadata": {
    "collapsed": false
   }
  },
  {
   "cell_type": "markdown",
   "source": [
    "## Definitions of constants\n",
    "\n",
    "These are the constants for the data paths."
   ],
   "metadata": {
    "collapsed": false
   }
  },
  {
   "cell_type": "code",
   "execution_count": 2,
   "outputs": [],
   "source": [
    "DATA_FOLDER           = \"../data/\"\n",
    "PROCESSED_DATA_FOLDER = '../processed_data/'\n",
    "\n",
    "CHARACTER_DATASET     = DATA_FOLDER + \"character.metadata.tsv\"\n",
    "MOVIE_DATASET         = DATA_FOLDER + \"movie.metadata.tsv\"\n",
    "NAME_CLUSTER_DATASET  = DATA_FOLDER + \"name.clusters.txt\"\n",
    "PLOT_DATASET          = DATA_FOLDER + \"plot_summaries.txt\"\n",
    "TVTROPES_DATASET      = DATA_FOLDER + \"tvtropes.clusters.txt\"\n",
    "\n",
    "PROCESSED_CHARACTER   = PROCESSED_DATA_FOLDER + 'character_metadata.csv'\n",
    "PROCESSED_MOVIE       = PROCESSED_DATA_FOLDER + 'movie_metadata.csv'\n",
    "PROCESSED_NAME        = PROCESSED_DATA_FOLDER + 'name_clusters.csv'\n",
    "PROCESSED_PLOT        = PROCESSED_DATA_FOLDER + 'plot_summaries.csv'\n",
    "PROCESSED_TVTROPES    = PROCESSED_DATA_FOLDER + 'tvtropes_clusters.csv'"
   ],
   "metadata": {
    "collapsed": false
   }
  },
  {
   "cell_type": "markdown",
   "source": [
    "# Pre-processing\n",
    "\n",
    "At first, we fetch the data from the `data` folder into pd dataframes in order to set the desired headings and to modify the type if needed.\n",
    "Then we store it in `processed_data` folder in the desired .csv format."
   ],
   "metadata": {
    "collapsed": false
   }
  },
  {
   "cell_type": "markdown",
   "source": [
    "#### Pre-processing the data"
   ],
   "metadata": {
    "collapsed": false
   }
  },
  {
   "cell_type": "markdown",
   "source": [
    "For `movie_metadata` and `character_metadata` we modify the dates to the datetime format."
   ],
   "metadata": {
    "collapsed": false
   }
  },
  {
   "cell_type": "code",
   "execution_count": 3,
   "outputs": [],
   "source": [
    "movie_metadata = pd.read_csv(MOVIE_DATASET, sep='\\t', header=None) \\\n",
    "    .rename(columns={0 : 'wikipedia_movie_id',\n",
    "                     1 : 'freebase_movie_id',\n",
    "                     2 : 'movie_name',\n",
    "                     3 : 'movie_release_date',\n",
    "                     4 : 'office_revenue',\n",
    "                     5 : 'runtime',\n",
    "                     6 : 'languages',\n",
    "                     7 : 'countries',\n",
    "                     8 : 'genres'})\n",
    "\n",
    "movie_metadata['movie_release_date'] = pd.to_datetime(movie_metadata['movie_release_date'], errors = 'coerce')"
   ],
   "metadata": {
    "collapsed": false
   }
  },
  {
   "cell_type": "code",
   "execution_count": 4,
   "outputs": [],
   "source": [
    "character_metadata = pd.read_csv(CHARACTER_DATASET, sep='\\t', header=None) \\\n",
    "    .rename(columns={0  : 'wikipedia_movie_id',\n",
    "                     1  : 'freebase_movie_id',\n",
    "                     2  : 'movie_release_date',\n",
    "                     3  : 'character_name',\n",
    "                     4  : 'actor_birth_date',\n",
    "                     5  : 'actor_gender',\n",
    "                     6  : 'actor_height',\n",
    "                     7  : 'actor_ethnicity',\n",
    "                     8  : 'actor_name',\n",
    "                     9  : 'actor_age',\n",
    "                     10 : 'freebase_map_id',\n",
    "                     11 : 'freebase_character_id',\n",
    "                     12 : 'freebase_actor_id'})\n",
    "\n",
    "character_metadata['movie_release_date'] = pd.to_datetime(character_metadata['movie_release_date'],          errors='coerce')\n",
    "character_metadata['actor_birth_date'] =   pd.to_datetime(character_metadata['actor_birth_date'], utc=True , errors='coerce')"
   ],
   "metadata": {
    "collapsed": false
   }
  },
  {
   "cell_type": "code",
   "execution_count": 5,
   "outputs": [],
   "source": [
    "plot_summaries = pd.read_csv(PLOT_DATASET, sep='\\t', header=None)\\\n",
    "    .rename(columns={0 :'movie_id',\n",
    "                     1 : 'plot'})"
   ],
   "metadata": {
    "collapsed": false
   }
  },
  {
   "cell_type": "code",
   "execution_count": 6,
   "outputs": [],
   "source": [
    "name_clusters = pd.read_csv(NAME_CLUSTER_DATASET, sep='\\t', header=None)\\\n",
    "    .rename(columns={0 :'character_name',\n",
    "                     1 : 'freebase_map_id'})"
   ],
   "metadata": {
    "collapsed": false
   }
  },
  {
   "cell_type": "markdown",
   "source": [
    "For the `tvtropes_cluster` : we first create a raw dataframe containing the data.\n",
    "Then we construct the resulting dataframe where each values of the dictionary correspond to the correct column."
   ],
   "metadata": {
    "collapsed": false
   }
  },
  {
   "cell_type": "code",
   "execution_count": 7,
   "outputs": [],
   "source": [
    "tvtropes_cluster_raw = pd.read_csv(TVTROPES_DATASET, sep='\\t', header=None)\n",
    "tvtropes_cluster_raw[1] = tvtropes_cluster_raw[1].map(ast.literal_eval)\n",
    "tvtropes_cluster = pd.DataFrame()\n",
    "\n",
    "tvtropes_cluster['character_type'] = tvtropes_cluster_raw[0]\n",
    "tvtropes_cluster['character_name'] = tvtropes_cluster_raw[1].map(lambda d : d['char'])\n",
    "tvtropes_cluster['movie_name']     = tvtropes_cluster_raw[1].map(lambda d : d['movie'])\n",
    "tvtropes_cluster['movie_id']       = tvtropes_cluster_raw[1].map(lambda d : d['id'])\n",
    "tvtropes_cluster['actor_name']     = tvtropes_cluster_raw[1].map(lambda d : d['actor'])"
   ],
   "metadata": {
    "collapsed": false
   }
  },
  {
   "cell_type": "markdown",
   "source": [
    "#### Storing the data"
   ],
   "metadata": {
    "collapsed": false
   }
  },
  {
   "cell_type": "code",
   "execution_count": 8,
   "outputs": [],
   "source": [
    "character_metadata.to_csv(PROCESSED_CHARACTER, index=False)\n",
    "movie_metadata    .to_csv(PROCESSED_MOVIE,     index=False)\n",
    "plot_summaries    .to_csv(PROCESSED_PLOT,      index=False)\n",
    "name_clusters     .to_csv(PROCESSED_NAME,      index=False)\n",
    "tvtropes_cluster  .to_csv(PROCESSED_TVTROPES,  index=False)"
   ],
   "metadata": {
    "collapsed": false
   }
  }
 ],
 "metadata": {
  "kernelspec": {
   "display_name": "Python 3.10.6 64-bit",
   "language": "python",
   "name": "python3"
  },
  "language_info": {
   "codemirror_mode": {
    "name": "ipython",
    "version": 3
   },
   "file_extension": ".py",
   "mimetype": "text/x-python",
   "name": "python",
   "nbconvert_exporter": "python",
   "pygments_lexer": "ipython3",
   "version": "3.10.6"
  },
  "orig_nbformat": 4,
  "vscode": {
   "interpreter": {
    "hash": "916dbcbb3f70747c44a77c7bcd40155683ae19c65e1c03b4aa3499c5328201f1"
   }
  }
 },
 "nbformat": 4,
 "nbformat_minor": 2
}
