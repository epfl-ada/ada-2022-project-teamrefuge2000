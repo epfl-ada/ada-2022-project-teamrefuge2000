{
 "cells": [
  {
   "cell_type": "code",
   "execution_count": 1,
   "metadata": {},
   "outputs": [],
   "source": [
    "# Run the pre-processing\n",
    "\n",
    "# %run 'pre-processing.ipynb'"
   ]
  },
  {
   "cell_type": "code",
   "execution_count": 2,
   "metadata": {},
   "outputs": [],
   "source": [
    "import pandas as pd\n",
    "\n",
    "PROCESSED_DATA_FOLDER = '../processed_data/'\n",
    "\n",
    "PROCESSED_CHARACTER = PROCESSED_DATA_FOLDER + 'character_metadata.csv'\n",
    "PROCESSED_MOVIE = PROCESSED_DATA_FOLDER + 'movie_metadata.csv'\n",
    "\n",
    "characters_df = pd.read_csv(PROCESSED_CHARACTER)\n",
    "movie_df = pd.read_csv(PROCESSED_MOVIE)"
   ]
  },
  {
   "cell_type": "markdown",
   "metadata": {},
   "source": [
    "### Freebase database"
   ]
  },
  {
   "cell_type": "markdown",
   "metadata": {},
   "source": [
    "Many features in our datasets have as format freebase ids. It is essential to be able to translate these features to their respective labels to properly understand our datasets and make precise analysis. This is why we made an auxiliary function to make queries to the freebase database."
   ]
  },
  {
   "cell_type": "code",
   "execution_count": 3,
   "metadata": {},
   "outputs": [],
   "source": [
    "import requests\n",
    "import urllib\n",
    "import numpy as np\n",
    "\n",
    "\n",
    "'''\n",
    ":param list of string\n",
    ":return dictionnary with id and it's translation\n",
    "\n",
    "Uses queries to the wikidata database\n",
    "'''\n",
    "def translate_freebase_list(freebase_ids) -> dict:\n",
    "    st = \"\\\" \\\"\".join(freebase_ids)\n",
    "    st = \"\\\"\" + st + \"\\\"\"\n",
    "\n",
    "    query_content = \"\"\"\n",
    "    PREFIX wd: <http://www.wikidata.org/entity/>\n",
    "    PREFIX wdt: <http://www.wikidata.org/prop/direct/>\n",
    "    PREFIX wikibase: <http://wikiba.se/ontology#>\n",
    "\n",
    "    SELECT DISTINCT ?ISNI ?idLabel WHERE {\n",
    "    VALUES ?ISNI {%s}\n",
    "    ?id wdt:P646 ?ISNI\n",
    "    SERVICE wikibase:label {\n",
    "        bd:serviceParam wikibase:language \"en\" .\n",
    "    }\n",
    "    }\n",
    "    \"\"\" % st\n",
    "    \n",
    "    query = \"https://query.wikidata.org/bigdata/namespace/wdq/sparql?format=json&query=\" + urllib.parse.quote_plus(query_content)\n",
    "    response = requests.get(query)\n",
    "    if not response.ok :\n",
    "        print(\"Error in request\")\n",
    "        return np.NaN\n",
    "    \n",
    "    values = response.json()\n",
    "    if len(values) == 0 :\n",
    "        return np.NaN\n",
    "        \n",
    "    return dict([(item['ISNI']['value'], item['idLabel']['value']) for item in values['results']['bindings']])\n",
    "\n",
    "#split a list into n pieces\n",
    "def split(a, n):\n",
    "    k, m = divmod(len(a), n)\n",
    "    return (a[i*k+min(i, m):(i+1)*k+min(i+1, m)] for i in range(n))\n",
    "\n",
    "#add a translated column (of the col_name given) to the dataframe\n",
    "def translate_freebase_df(df, col_name) :\n",
    "    li = list(set(df[col_name].dropna().tolist()))\n",
    "    di = dict()\n",
    "    for l in split(li, 10) :\n",
    "        di.update(translate_freebase_list(l))\n",
    "    \n",
    "    df[col_name + '_translated'] = df[col_name].apply(lambda x : di[x] if x in di else np.NaN)\n",
    "    return df"
   ]
  },
  {
   "cell_type": "code",
   "execution_count": 4,
   "metadata": {},
   "outputs": [
    {
     "data": {
      "text/html": [
       "<div>\n",
       "<style scoped>\n",
       "    .dataframe tbody tr th:only-of-type {\n",
       "        vertical-align: middle;\n",
       "    }\n",
       "\n",
       "    .dataframe tbody tr th {\n",
       "        vertical-align: top;\n",
       "    }\n",
       "\n",
       "    .dataframe thead th {\n",
       "        text-align: right;\n",
       "    }\n",
       "</style>\n",
       "<table border=\"1\" class=\"dataframe\">\n",
       "  <thead>\n",
       "    <tr style=\"text-align: right;\">\n",
       "      <th></th>\n",
       "      <th>wikipedia_movie_id</th>\n",
       "      <th>actor_name</th>\n",
       "      <th>actor_ethnicity</th>\n",
       "      <th>actor_ethnicity_translated</th>\n",
       "    </tr>\n",
       "  </thead>\n",
       "  <tbody>\n",
       "    <tr>\n",
       "      <th>2</th>\n",
       "      <td>975900</td>\n",
       "      <td>Ice Cube</td>\n",
       "      <td>/m/0x67</td>\n",
       "      <td>African Americans</td>\n",
       "    </tr>\n",
       "    <tr>\n",
       "      <th>5</th>\n",
       "      <td>975900</td>\n",
       "      <td>Pam Grier</td>\n",
       "      <td>/m/0x67</td>\n",
       "      <td>African Americans</td>\n",
       "    </tr>\n",
       "    <tr>\n",
       "      <th>11</th>\n",
       "      <td>975900</td>\n",
       "      <td>Rodney A. Grant</td>\n",
       "      <td>/m/064b9n</td>\n",
       "      <td>Omaha people</td>\n",
       "    </tr>\n",
       "    <tr>\n",
       "      <th>27</th>\n",
       "      <td>3196793</td>\n",
       "      <td>Albert Hall</td>\n",
       "      <td>/m/0x67</td>\n",
       "      <td>African Americans</td>\n",
       "    </tr>\n",
       "    <tr>\n",
       "      <th>55</th>\n",
       "      <td>2314463</td>\n",
       "      <td>Seth Green</td>\n",
       "      <td>/m/041rx</td>\n",
       "      <td>Jewish people</td>\n",
       "    </tr>\n",
       "  </tbody>\n",
       "</table>\n",
       "</div>"
      ],
      "text/plain": [
       "    wikipedia_movie_id       actor_name actor_ethnicity  \\\n",
       "2               975900         Ice Cube         /m/0x67   \n",
       "5               975900        Pam Grier         /m/0x67   \n",
       "11              975900  Rodney A. Grant       /m/064b9n   \n",
       "27             3196793      Albert Hall         /m/0x67   \n",
       "55             2314463       Seth Green        /m/041rx   \n",
       "\n",
       "   actor_ethnicity_translated  \n",
       "2           African Americans  \n",
       "5           African Americans  \n",
       "11               Omaha people  \n",
       "27          African Americans  \n",
       "55              Jewish people  "
      ]
     },
     "execution_count": 4,
     "metadata": {},
     "output_type": "execute_result"
    }
   ],
   "source": [
    "\n",
    "translated_characters_df = characters_df.copy()\n",
    "translate_freebase_df(translated_characters_df, 'actor_ethnicity')\n",
    "\n",
    "#print only rows where actor ethnicity is not null\n",
    "translated_characters_df[['wikipedia_movie_id', 'actor_name', 'actor_ethnicity', 'actor_ethnicity_translated']].\\\n",
    "    loc[translated_characters_df['actor_ethnicity'].notna()].dropna().head(n=5)"
   ]
  },
  {
   "cell_type": "markdown",
   "metadata": {},
   "source": [
    "### Initial observations"
   ]
  },
  {
   "cell_type": "markdown",
   "metadata": {},
   "source": [
    "Let's begin with some analysis. For that we are going to need the ratio of women actors per movie."
   ]
  },
  {
   "cell_type": "code",
   "execution_count": 5,
   "metadata": {},
   "outputs": [],
   "source": [
    "movie_gender = characters_df.groupby(['wikipedia_movie_id', 'actor_gender']).size().unstack(fill_value=0)\n",
    "movie_gender['ratio'] = movie_gender['F'] / (movie_gender['M'] + movie_gender['F'])\n",
    "movie_gender = movie_gender['ratio'].reset_index()"
   ]
  },
  {
   "cell_type": "markdown",
   "metadata": {},
   "source": [
    "We are going to plot the ratio of female actors in movie over the years.\n",
    "\n",
    "We can see that the ratio increases from 1940 to date but still remains below 0.37 which is intriguing. There is also an interesting period between 1920 and 1940 where the ratios are relatively high, it goes around 0.37, can we maybe link it to the particular history in those times ? We will continue those analysis in milestone 3.  "
   ]
  },
  {
   "cell_type": "code",
   "execution_count": 6,
   "metadata": {},
   "outputs": [
    {
     "data": {
      "image/png": "[encoded data removed]",
      "text/plain": [
       "<Figure size 640x480 with 1 Axes>"
      ]
     },
     "metadata": {},
     "output_type": "display_data"
    }
   ],
   "source": [
    "#merge the movie dates using wikipedia ids\n",
    "movie_gender_date = pd.merge(movie_gender, movie_df[['wikipedia_movie_id', 'movie_release_date']], on='wikipedia_movie_id').dropna()\n",
    "movie_gender_date['year'] = pd.DatetimeIndex(movie_gender_date['movie_release_date']).year.astype('int')\n",
    "\n",
    "#group the movies by year and drop years with less than 275 movies\n",
    "movie_gender_date = movie_gender_date[movie_gender_date.groupby('year')['year'].transform('size') >= 275].\\\n",
    "    groupby('year')['ratio'].mean().reset_index()\n",
    "\n",
    "#plot the graph\n",
    "movie_gender_date.plot(x='year', y='ratio', kind='line', title='Ratio of female actors in movies');\n"
   ]
  },
  {
   "cell_type": "markdown",
   "metadata": {},
   "source": [
    "### Additional dataset"
   ]
  },
  {
   "cell_type": "markdown",
   "metadata": {},
   "source": [
    "One additional that we are going to use is the collection of the plot summaries, run through the Stanford CoreNLP pipeline (tagging, parsing, NER and coref).\n",
    "\n",
    "This dataset will be useful to help us understand the role of female characters in the different movies.\n",
    "\n",
    "We are using the Element Tree module to parse the XML data. "
   ]
  },
  {
   "cell_type": "code",
   "execution_count": 7,
   "metadata": {},
   "outputs": [],
   "source": [
    "import xml.etree.ElementTree as ET\n",
    "\n",
    "DATA = '../corenlp_plot_summaries/'\n",
    "\n",
    "def parse_nlp(id : str) -> ET :\n",
    "    tree = ET.parse(DATA + id + '.xml')\n",
    "    return tree.getroot()"
   ]
  },
  {
   "cell_type": "code",
   "execution_count": 8,
   "metadata": {},
   "outputs": [
    {
     "name": "stdout",
     "output_type": "stream",
     "text": [
      "Character connected : ['Joker']\n",
      "Nominal subject : ['intercepts', 'gives', 'made', 'interrogate', 'interrupting', 'confronts', 'asked', 'intervenes', 'tells', 'expresses', 'lets', 'says', 'has', 'declines', 'knocks']\n"
     ]
    }
   ],
   "source": [
    "#Let's get a movie with a character anyone knows: the great Batman\n",
    "batman_character = characters_df[['wikipedia_movie_id', 'character_name']].loc[characters_df['character_name'] == 'Batman'].iloc[1]\n",
    "\n",
    "#Use the function in auxiliary.ipynb to get the element tree root from the xml file\n",
    "root = parse_nlp(str(batman_character['wikipedia_movie_id']))\n",
    "\n",
    "#Make a dic of all the words linked to Batman during the movie\n",
    "words = dict()\n",
    "for dep in root.findall(\"document/sentences/sentence/basic-dependencies/dep/[dependent='Batman']\"):\n",
    "    if dep.attrib['type'] in words :\n",
    "        words[dep.attrib['type']].append(dep.find('governor').text)\n",
    "    else :\n",
    "        words[dep.attrib['type']] = [dep.find('governor').text]\n",
    "\n",
    "\n",
    "#Spoiler alert ! We can see the connected characters to our batman in 'conj' \n",
    "# (A conjunct is the relation between two elements connected by a conjunction word)\n",
    "print(\"Character connected : \" + str(words['conj']))\n",
    "\n",
    "#Or we can see Batman's actions using the nominal subject\n",
    "print(\"Nominal subject : \" + str(words['nsubj']))\n",
    "\n"
   ]
  },
  {
   "cell_type": "code",
   "execution_count": null,
   "metadata": {},
   "outputs": [],
   "source": []
  }
 ],
 "metadata": {
  "kernelspec": {
   "display_name": "Python 3.10.6 64-bit",
   "language": "python",
   "name": "python3"
  },
  "language_info": {
   "codemirror_mode": {
    "name": "ipython",
    "version": 3
   },
   "file_extension": ".py",
   "mimetype": "text/x-python",
   "name": "python",
   "nbconvert_exporter": "python",
   "pygments_lexer": "ipython3",
   "version": "3.10.6"
  },
  "orig_nbformat": 4,
  "vscode": {
   "interpreter": {
    "hash": "916dbcbb3f70747c44a77c7bcd40155683ae19c65e1c03b4aa3499c5328201f1"
   }
  }
 },
 "nbformat": 4,
 "nbformat_minor": 2
}
